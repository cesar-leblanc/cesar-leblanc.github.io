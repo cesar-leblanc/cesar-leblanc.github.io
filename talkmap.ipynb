{
 "cells": [
  {
   "cell_type": "markdown",
   "metadata": {},
   "source": [
    "# Leaflet cluster map of talk locations\n",
    "\n",
    "Run this from the _talks/ directory, which contains .md files of all your talks. This scrapes the location YAML field from each .md file, geolocates it with geopy/Nominatim, and uses the getorg library to output data, HTML, and Javascript for a standalone cluster map."
   ]
  },
  {
   "cell_type": "code",
   "execution_count": 1,
   "metadata": {
    "collapsed": false
   },
   "outputs": [
    {
     "name": "stdout",
     "output_type": "stream",
     "text": [
      "Requirement already satisfied: getorg in /Users/cleblanc/environments/website/lib/python3.11/site-packages (0.3.1)\n",
      "Requirement already satisfied: geopy in /Users/cleblanc/environments/website/lib/python3.11/site-packages (from getorg) (2.4.1)\n",
      "Requirement already satisfied: pygithub in /Users/cleblanc/environments/website/lib/python3.11/site-packages (from getorg) (2.4.0)\n",
      "Requirement already satisfied: retrying in /Users/cleblanc/environments/website/lib/python3.11/site-packages (from getorg) (1.3.4)\n",
      "Requirement already satisfied: geographiclib<3,>=1.52 in /Users/cleblanc/environments/website/lib/python3.11/site-packages (from geopy->getorg) (2.0)\n",
      "Requirement already satisfied: pynacl>=1.4.0 in /Users/cleblanc/environments/website/lib/python3.11/site-packages (from pygithub->getorg) (1.5.0)\n",
      "Requirement already satisfied: requests>=2.14.0 in /Users/cleblanc/environments/website/lib/python3.11/site-packages (from pygithub->getorg) (2.32.3)\n",
      "Requirement already satisfied: pyjwt[crypto]>=2.4.0 in /Users/cleblanc/environments/website/lib/python3.11/site-packages (from pygithub->getorg) (2.9.0)\n",
      "Requirement already satisfied: typing-extensions>=4.0.0 in /Users/cleblanc/environments/website/lib/python3.11/site-packages (from pygithub->getorg) (4.12.2)\n",
      "Requirement already satisfied: urllib3>=1.26.0 in /Users/cleblanc/environments/website/lib/python3.11/site-packages (from pygithub->getorg) (2.2.3)\n",
      "Requirement already satisfied: Deprecated in /Users/cleblanc/environments/website/lib/python3.11/site-packages (from pygithub->getorg) (1.2.14)\n",
      "Requirement already satisfied: six>=1.7.0 in /Users/cleblanc/environments/website/lib/python3.11/site-packages (from retrying->getorg) (1.16.0)\n",
      "Requirement already satisfied: cryptography>=3.4.0 in /Users/cleblanc/environments/website/lib/python3.11/site-packages (from pyjwt[crypto]>=2.4.0->pygithub->getorg) (43.0.1)\n",
      "Requirement already satisfied: cffi>=1.4.1 in /Users/cleblanc/environments/website/lib/python3.11/site-packages (from pynacl>=1.4.0->pygithub->getorg) (1.17.1)\n",
      "Requirement already satisfied: charset-normalizer<4,>=2 in /Users/cleblanc/environments/website/lib/python3.11/site-packages (from requests>=2.14.0->pygithub->getorg) (3.4.0)\n",
      "Requirement already satisfied: idna<4,>=2.5 in /Users/cleblanc/environments/website/lib/python3.11/site-packages (from requests>=2.14.0->pygithub->getorg) (3.10)\n",
      "Requirement already satisfied: certifi>=2017.4.17 in /Users/cleblanc/environments/website/lib/python3.11/site-packages (from requests>=2.14.0->pygithub->getorg) (2024.8.30)\n",
      "Requirement already satisfied: wrapt<2,>=1.10 in /Users/cleblanc/environments/website/lib/python3.11/site-packages (from Deprecated->pygithub->getorg) (1.16.0)\n",
      "Requirement already satisfied: pycparser in /Users/cleblanc/environments/website/lib/python3.11/site-packages (from cffi>=1.4.1->pynacl>=1.4.0->pygithub->getorg) (2.22)\n",
      "\n",
      "\u001b[1m[\u001b[0m\u001b[34;49mnotice\u001b[0m\u001b[1;39;49m]\u001b[0m\u001b[39;49m A new release of pip is available: \u001b[0m\u001b[31;49m23.1.2\u001b[0m\u001b[39;49m -> \u001b[0m\u001b[32;49m25.0.1\u001b[0m\n",
      "\u001b[1m[\u001b[0m\u001b[34;49mnotice\u001b[0m\u001b[1;39;49m]\u001b[0m\u001b[39;49m To update, run: \u001b[0m\u001b[32;49mpip install --upgrade pip\u001b[0m\n",
      "IPywidgets and ipyleaflet support enabled.\n"
     ]
    }
   ],
   "source": [
    "!pip install getorg --upgrade\n",
    "import glob\n",
    "import getorg\n",
    "from geopy import Nominatim"
   ]
  },
  {
   "cell_type": "code",
   "execution_count": 2,
   "metadata": {
    "collapsed": false
   },
   "outputs": [],
   "source": [
    "g_1 = glob.glob(\"_talks/*talk.md\")\n",
    "g_2 = glob.glob(\"_talks/0000-other-talks.md\")"
   ]
  },
  {
   "cell_type": "code",
   "execution_count": 3,
   "metadata": {
    "collapsed": true
   },
   "outputs": [],
   "source": [
    "geocoder = Nominatim(user_agent=\"my-website\")\n",
    "location_dict = {}\n",
    "location = \"\"\n",
    "permalink = \"\"\n",
    "title = \"\""
   ]
  },
  {
   "cell_type": "code",
   "execution_count": 4,
   "metadata": {
    "collapsed": false
   },
   "outputs": [
    {
     "name": "stdout",
     "output_type": "stream",
     "text": [
      "Lucca, Italy \n",
      " Lucca, Toscana, Italia\n",
      "Glasgow, United Kingdom \n",
      " Glasgow, Glasgow City, Alba / Scotland, G2 1AL, United Kingdom\n",
      "Liverpool, United Kingdom \n",
      " Liverpool, Liverpool City Region, England, United Kingdom\n",
      "Bologna, Italy \n",
      " Bologna, Emilia-Romagna, Italia\n",
      "Rome, Italy \n",
      " Roma, Roma Capitale, Lazio, Italia\n",
      "Madrid, Spain \n",
      " Madrid, Comunidad de Madrid, España\n"
     ]
    }
   ],
   "source": [
    "for file in g_1:\n",
    "    with open(file, 'r') as f:\n",
    "        lines = f.read()\n",
    "        if lines.find('location: \"') > 1:\n",
    "            loc_start = lines.find('location: \"') + 11\n",
    "            lines_trim = lines[loc_start:]\n",
    "            loc_end = lines_trim.find('\"')\n",
    "            location = lines_trim[:loc_end]\n",
    "                            \n",
    "           \n",
    "        location_dict[location] = geocoder.geocode(location)\n",
    "        print(location, \"\\n\", location_dict[location])"
   ]
  },
  {
   "cell_type": "code",
   "execution_count": 6,
   "metadata": {},
   "outputs": [
    {
     "name": "stdout",
     "output_type": "stream",
     "text": [
      "Montpellier, France \n",
      " Montpellier, Hérault, Occitanie, France métropolitaine, France\n",
      "Brussels, Belgium \n",
      " Bruxelles - Brussel, Brussel-Hoofdstad - Bruxelles-Capitale, Région de Bruxelles-Capitale - Brussels Hoofdstedelijk Gewest, België / Belgique / Belgien\n",
      "Porto, Portugal \n",
      " Porto, Portugal\n",
      "Leipzig, Germany \n",
      " Leipzig, Sachsen, Deutschland\n",
      "Halle, Germany \n",
      " Halle (Saale), Sachsen-Anhalt, Deutschland\n"
     ]
    }
   ],
   "source": [
    "for file in g_2:\n",
    "    with open(file, 'r') as f:\n",
    "        lines = f.read()\n",
    "        if 'locations:' in lines:\n",
    "            loc_start = lines.find('locations:') + len('locations:')\n",
    "            loc_end = lines.find('---', loc_start)\n",
    "            locations_block = lines[loc_start:loc_end].strip()\n",
    "            locations = [loc.strip().strip('\"') for loc in locations_block.split('-') if loc.strip()]\n",
    "            \n",
    "            for location in locations:\n",
    "                geocoded_location = geocoder.geocode(location)\n",
    "                location_dict[location] = geocoded_location\n",
    "                print(location, \"\\n\", geocoded_location)"
   ]
  },
  {
   "cell_type": "code",
   "execution_count": 7,
   "metadata": {
    "collapsed": false
   },
   "outputs": [
    {
     "data": {
      "text/plain": [
       "'Written map to talkmap/'"
      ]
     },
     "execution_count": 7,
     "metadata": {},
     "output_type": "execute_result"
    }
   ],
   "source": [
    "m = getorg.orgmap.create_map_obj()\n",
    "getorg.orgmap.output_html_cluster_map(location_dict, folder_name=\"talkmap\", hashed_usernames=False)"
   ]
  },
  {
   "cell_type": "code",
   "execution_count": null,
   "metadata": {
    "collapsed": true
   },
   "outputs": [],
   "source": []
  }
 ],
 "metadata": {
  "anaconda-cloud": {},
  "kernelspec": {
   "display_name": "website",
   "language": "python",
   "name": "python3"
  },
  "language_info": {
   "codemirror_mode": {
    "name": "ipython",
    "version": 3
   },
   "file_extension": ".py",
   "mimetype": "text/x-python",
   "name": "python",
   "nbconvert_exporter": "python",
   "pygments_lexer": "ipython3",
   "version": "3.11.4"
  }
 },
 "nbformat": 4,
 "nbformat_minor": 0
}
